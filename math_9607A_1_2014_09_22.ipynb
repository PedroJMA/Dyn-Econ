{
 "metadata": {
  "name": "",
  "signature": "sha256:fac494f2f03a6841b5b1c6362b0e2f63d11c404071139b1a554762137598aad5"
 },
 "nbformat": 3,
 "nbformat_minor": 0,
 "worksheets": [
  {
   "cells": [
    {
     "cell_type": "heading",
     "level": 2,
     "metadata": {},
     "source": [
      "Preliminaries"
     ]
    },
    {
     "cell_type": "raw",
     "metadata": {},
     "source": [
      "Note: I have to check those proofs at Problem set 1"
     ]
    },
    {
     "cell_type": "markdown",
     "metadata": {},
     "source": [
      "Let $X$ be a universe. \n",
      "\n",
      "<div class=\"alert alert-error\">\n",
      "*Thm.* (de Morgan's Laws) $\\forall A, B \\subseteq X$ we have that \n",
      "$$\n",
      "\\begin{eqnarray} \n",
      "(A \\cap B)^C &=& A^C \\cup B^C \\\\\n",
      "(A \\cup B)^C &=& A^C \\cap B^C \\\\\n",
      "\\end{eqnarray}\n",
      "$$\n",
      "</div>\n",
      "\n",
      "<div class=\"alert alert-info\"> \n",
      "*Def.* A collection $\\mathcal{A}$ of subsets of $X$ is a **partition** of $X$ if\n",
      "$$\n",
      "\\begin{eqnarray}\n",
      "&\\bullet & (A, A' \\in \\mathcal{A} \\wedge A \\cap A' \\neq \\emptyset ) \\Rightarrow A=A'\\\\\n",
      "&\\bullet & \\cup_{A \\in \\mathcal{A}} A = X \\\\\n",
      "\\end{eqnarray}\n",
      "$$\n",
      "</div>\n",
      "\n",
      "<div class=\"alert alert-info\"> \n",
      "*Def.* A **binary relation** on X is $R \\subseteq X\\times X$\n",
      "</div>\n",
      "Note that instead of $(x,x')\\in R$, we write $xRx'$. That is, a pairwise comparison in the universe. So $(x,x')$ is an ordered pair. "
     ]
    },
    {
     "cell_type": "heading",
     "level": 3,
     "metadata": {},
     "source": [
      "Properties on Binary Relations"
     ]
    },
    {
     "cell_type": "markdown",
     "metadata": {},
     "source": [
      "<div class=\"alert alert-info\"> \n",
      "*Def.* Binary relation $R$ on $X$ is:\n",
      "</div>\n",
      "\n",
      "* **Complete** if $\\forall x,x' \\in X$, $(xRx' \\vee x'Rx)$\n",
      "* **reflexive** if $\\forall x \\in X$, $xRx$\n",
      "* **irreflexive** if $\\forall x \\in X$, $\\neg(xRx)$\n",
      "* **transitive** if $(xRx' \\wedge x'Rx'') \\Rightarrow xRx''$, for all $x,x',x''$\n",
      "* **symmetric** if $xRx' \\Rightarrow x'Rx$, for all $x,x'$\n",
      "* **asymmetric** if $xRx' \\Rightarrow \\neg(x'Rx)$, for all $x,x'$\n",
      "* **antisymmetric** if $(xRx' \\wedge x'Rx) \\Rightarrow x=x'$\n",
      "* a **pre-order** if it is *reflexive* and *transitive*. \n",
      "* an **order** if it is an *antisymmetric pre-order*\n",
      "* an **equivalence** if it is a *symmetric order*\n",
      "\n",
      "Therefore, any *Asymmetric* relationship is *Antisymmetric*. \n",
      "\n",
      "Recall that $A \\Rightarrow B$ can be written as $\\neg B \\Rightarrow \\neg A$"
     ]
    },
    {
     "cell_type": "markdown",
     "metadata": {},
     "source": [
      "Note: **complete pre-order** plus $\\succsim$ implies $\\sim$ is an **equivalence**\n",
      "\n",
      "Let $R$ be a binary relation $X$. $\\forall x \\in R$, $R[x] = \\{ x' \\in X ~|~ xRx' \\}$. That is, $R[x]$ is the set of points to which $x$ relates. \n",
      "\n",
      "<div class=\"alert alert-info\"> \n",
      "*Def.* If $R$ is an equivalence, $A \\subseteq X$ is an **R-equivalance class** if \n",
      "$\\exists x \\in X: R[x]=A$. (Because if $\\succsim$ is complete, reflexive and transitive, then $\\sim$ is an *equivalence*. )\n",
      "</div>\n",
      "For example $\\sim[x]$, the indiference curve through $x$. \n",
      "\n",
      "<div class=\"alert alert-error\">\n",
      "*Thm.* If $R$ is an **equivalence** and $x' \\in R[x]$, then $R[x'] = R[x]$\n",
      "</div>\n",
      "<div class=\"alert alert-success\">\n",
      "*Proof*: Loot at Problem set 1. $\\blacksquare$\n",
      "</div>\n",
      "\n",
      "Review answers to PS1 and complete this proof. "
     ]
    },
    {
     "cell_type": "markdown",
     "metadata": {},
     "source": [
      "<div class=\"alert alert-error\">\n",
      "*Thm.* Let $R$ be an equivalence. If $\\mathcal{A}$ is a collection of all R-equivalence classes, \n",
      "then $\\mathcal{A}$ is a partition of $X$. \n",
      "</div>\n",
      "<div class=\"alert alert-success\">\n",
      "*Proof*: \n",
      "</div>\n",
      "\n",
      "We Want(W): \n",
      "* $(A,A' \\in \\mathcal{A}, A \\cap A' \\neq \\emptyset ) \\Rightarrow A=A'$\n",
      "* $\\cap_{A \\in \\mathcal{A}} = X$\n",
      "\n",
      "We have(H): \n",
      "* $\\forall A \\in \\mathcal{A}, \\exists x \\in X: R[x]=A$\n",
      "* $\\forall x \\in X, R[x] \\in \\mathcal{A}$\n",
      "* $R$ is *reflexive*, *symmetric* and *transitive*. \n",
      "\n",
      "**Step 1**: \n",
      "$(A,A' \\in \\mathcal{A}, A \\cap A' \\neq \\emptyset ) \\Rightarrow A=A'$\n",
      "\n",
      "Let $A,A' \\in \\mathcal{A}: A \\cap A' \\neq \\emptyset$ (W:$A=A'$)\n",
      "\n",
      "By definition of Equivalence class (E.C.), $\\exists x,x' \\in X: R[x]=A ~and~ R[x']=A'$. \n",
      "\n",
      "Since $A \\cap A' \\neq \\emptyset, \\exists x^* \\in X: x^* \\in A \\wedge x^* \\in A'$\n",
      "\n",
      "So $x^* \\in R[x]$ and $R[x^*] = R[x]$,\n",
      "$x^* \\in R[x']$ and $R[x^*] = R[x']$. \n",
      "Therefore, $A = A'$. \n",
      "Where $R[x^*] = R[x']$ is a result from Thm (PS 1). \n",
      "\n",
      "**Step 2**:\n",
      "$\\cup_{A \\in \\mathcal{A}} \\subseteq X$ and\n",
      "$\\cup_{A \\in \\mathcal{A}} \\supseteq X$ \n",
      "\n",
      "By definition we have that $\\cap_{A \\in \\mathcal{A}} \\subseteq X$. So W: \n",
      "$x \\in X \\Rightarrow x \\in \\cup_{A \\in \\mathcal{A}}$\n",
      "\n",
      "Let $x \\in X$. Since $R$ is *reflexive*, $xRx$, so $x \\in R[x] \\in \\mathcal{A}$, so $x \\in \\cup_{A \\in \\mathcal{A}}$ \n",
      "$\\blacksquare$."
     ]
    },
    {
     "cell_type": "markdown",
     "metadata": {},
     "source": [
      "Taking stock: \n",
      "\n",
      "* $R$ is a binary relation (b.r.) on $X$\n",
      "* $x$ is in $X$\n",
      "* $R[x] = \\{x' \\in X ~|~ xRx' \\}$\n",
      "* $\\geq[5] = \\{1,2,3,4,5\\}$ with $X=\\mathbb{N}$\n",
      "* R^{-1}[x] = \\{ x' \\in X ~|~ x'Rx \\}\n",
      "* **Lemma** is a *cheap theorem*\n",
      "* **Axioms** are not definitions, statements we hope are true, i.e. theorems without proof. "
     ]
    },
    {
     "cell_type": "markdown",
     "metadata": {},
     "source": [
      "<div class=\"alert alert-success\">\n",
      "*Axiom*. **Principle of mathematical induction** \n",
      "</div>\n",
      "Let $P(x)$ be a statement made about $n \\in \\mathbb{N}$. If\n",
      "* $P(1)$ is true, and\n",
      "* $P(n)$ is true $\\Rightarrow$ $P(n+1)$ true\n",
      "then $P(n)$ is true $\\forall n \\in \\mathbb{N}$. \n",
      "\n",
      "<div class=\"alert alert-success\">\n",
      "*Axiom*. **Principle of well ordering** \n",
      "Any non empty set of **natural** numbers has a smallest element (s.e.). \n",
      "</div>"
     ]
    },
    {
     "cell_type": "markdown",
     "metadata": {},
     "source": [
      "<div class=\"alert alert-error\">\n",
      "*Thm*. Principle of mathematical induction (PMI) $\\Leftrightarrow$ \n",
      "Principle of well ordering (PWO)\n",
      "</div>"
     ]
    },
    {
     "cell_type": "markdown",
     "metadata": {},
     "source": [
      "<div class=\"alert alert-success\">\n",
      "Proof: PMI $\\Rightarrow$ PWO\n",
      "</div>\n",
      "\n",
      "Let $P(n) = [ \\text{If} X \\subseteq \\mathbb{N} \\text{and} X \\cap \\{1,2,\\ldots,n\\} \\neq \\emptyset ]$ then $X$ has a s.e.\n",
      "* P(1) is true: if $X \\subseteq \\mathbb{N}$, \n",
      "$X \\cap \\{1\\} \\neq \\emptyset$, \n",
      "then $1 \\in X$, so $1$ is the s.e. of $X$. \n",
      "* Suppose $P(n)$ is true. Let $X \\subseteq \\mathbb{N}$ such that $X \\cap \\{1,2,\\ldots,n+1\\} \\neq \\emptyset$ (W: $X$ has s.e.)\n",
      "\n",
      "If $X \\cap \\{1,2,\\ldots,n\\} \\neq \\emptyset$, then $X$ has a s.e. by $P(n)$. \n",
      "Else, $X \\cap \\{1,2,\\ldots,n\\} = \\emptyset$. \n",
      "Since $X \\cap \\{1,2,\\ldots,n+1\\} \\neq \\emptyset$ then $n+1 \\in X$, and $n'< n+1$ $\\Rightarrow$ $n' \\not \\in X$ and $n+1$ is the S.e. of $X$. \n",
      "By PMI, $P(n)$ is true $\\forall n \\in \\mathbb{N}$. \n",
      "Let $X \\subseteq \\mathbb{N}: X \\neq \\emptyset$, pick $x \\in X$, so $X \\cap \\{1,2,\\ldots,n\\} \\neq \\emptyset$, by $P(n)$, $X$ has a s.e. $\\blacksquare$. "
     ]
    },
    {
     "cell_type": "markdown",
     "metadata": {},
     "source": [
      "<div class=\"alert alert-success\">\n",
      "Proof: PWO $\\Rightarrow$ PMI\n",
      "</div>\n",
      "If PMI fails, find $p(n)$ $\\forall n \\in \\mathbb{N}$: \n",
      "\n",
      "* $p(1)$ is true\n",
      "* $p(n)$ true $\\Rightarrow$ $p(n+1)$ true\n",
      "* $\\exists n^{*} \\in \\mathbb{N}: p(n^*)$ is not true\n",
      "\n",
      "Let $X = \\{n\\in \\mathbb{N} ~|~ p(n) \\text{ is not true}\\} \\subseteq \\mathbb{N}$. \n",
      "\n",
      "Since $n^* \\in X, X\\neq \\emptyset$, let $n_*$ be the smallest element of $X$ (by PWO); \n",
      "$n_*>1$, since $p(1)$ is true. \n",
      "So $n_* -1 \\in \\mathbb{N}$, since $n_*-1 < n_*, n_*-1 \\not\\in X$ and $p(n_*-1)$ is true, while $p(n^*)$ is not. Therefore $\\Rightarrow \\Leftarrow $ $\\blacksquare$"
     ]
    },
    {
     "cell_type": "markdown",
     "metadata": {},
     "source": [
      "<div class=\"alert alert-success\">\n",
      "*Def.* $X$ is \n",
      "</div>\n",
      "\n",
      "* **finite** if there exist $n^* \\in \\mathbb{N}$ and $f:\\{1, \\ldots, n^*\\} \\rightarrow X$, surjective\n",
      "* **countable** if there exists \n",
      "$f: \\mathbb{N}\\rightarrow X$, surjective. \n"
     ]
    },
    {
     "cell_type": "markdown",
     "metadata": {},
     "source": [
      "<div class=\"alert alert-error\">\n",
      "*Thm.* Let $X$ be infinite. It is countable if, and only if $\\exists f: \\mathbb{N} \\rightarrow X$, bijective. \n",
      "</div>"
     ]
    },
    {
     "cell_type": "markdown",
     "metadata": {},
     "source": [
      "<div class=\"alert alert-error\">\n",
      "*Thm.* $X$ is countable if, and only if, all its subsets are countable.  \n",
      "</div>\n",
      "\n",
      "<div class=\"alert alert-success\">\n",
      "*Proof*: Loot at Problem set 1. $\\blacksquare$\n",
      "</div>\n",
      "\n",
      "Review answers of this problem set to complete the proof. "
     ]
    },
    {
     "cell_type": "markdown",
     "metadata": {},
     "source": [
      "Source: \n",
      "\n",
      "* [Math(2014-09-09).pdf](https://www.dropbox.com/s/k5i0k2nspe3thbi/Math%282014-09-09%29.pdf?dl=0)\n",
      "* [Math(2014-09-11).pdf](https://www.dropbox.com/s/538h7i1ndt516mj/Math%282014-09-11%29.pdf?dl=0) "
     ]
    }
   ],
   "metadata": {}
  }
 ]
}