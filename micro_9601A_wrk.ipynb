{
 "metadata": {
  "name": "",
  "signature": "sha256:434af44ae5da4269ec13b53227c7f7580981c69cf32d7c14da6a61fa55d6648c"
 },
 "nbformat": 3,
 "nbformat_minor": 0,
 "worksheets": [
  {
   "cells": [
    {
     "cell_type": "heading",
     "level": 1,
     "metadata": {},
     "source": [
      "Microeconomics I - 9601A, Fall 2014"
     ]
    },
    {
     "cell_type": "markdown",
     "metadata": {},
     "source": [
      "Notes: \n",
      "* **Midterm: October 22**\n",
      "* Weekly problem set (we can work in teams): distributed on Thursday and due on next Monday\n",
      "* Office hours: Monday-Wednesday 2:30-3:30pm at 4040SS\n",
      "* TA: Yuxi Yao"
     ]
    },
    {
     "cell_type": "heading",
     "level": 1,
     "metadata": {},
     "source": [
      "Preference Theory"
     ]
    },
    {
     "cell_type": "markdown",
     "metadata": {},
     "source": [
      "Define $\\succsim $ as \"at least as good as\""
     ]
    },
    {
     "cell_type": "markdown",
     "metadata": {},
     "source": [
      "<div class=\"alert alert-info\"> \n",
      "*Def.* The **Cartesian product** of $X$ and $Y$ is \n",
      "$ X\\times Y := \\{(x,y) |  x \\in X ~and~ y \\in Y\\} $\n",
      "</div>"
     ]
    },
    {
     "cell_type": "markdown",
     "metadata": {},
     "source": [
      "<div class=\"alert alert-info\"> \n",
      "*Def.* B is a **binary relation** on $X$ \n",
      "if $B \\subseteq X^2 $\n",
      "</div>\n",
      "That is, $B$ is a set of ordered sets; or B is a subset of the cartesian producto of $X \\times X$ i.e. $X^2$"
     ]
    },
    {
     "cell_type": "markdown",
     "metadata": {},
     "source": [
      "<div class=\"alert alert-info\"> \n",
      "**Notation.** $xBy$ means $(x,y) \\in B$\n",
      "</div>"
     ]
    },
    {
     "cell_type": "markdown",
     "metadata": {},
     "source": [
      "<div class=\"alert alert-info\"> \n",
      "*Def.* **Converse of the Binary relation** $B^C$ is defined as $B^C:= \\{ (x,y) | (x,y) \\in B \\}$\n",
      "</div>\n",
      "This means, that the converse is the mirrow ordered pair in the set. "
     ]
    },
    {
     "cell_type": "markdown",
     "metadata": {},
     "source": [
      "<div class=\"alert alert-info\"> \n",
      "*Def.* **Symmetric part** of B is defined as \n",
      "$B^S:= B \\cap B^C$ \n",
      "or\n",
      "$B^S:= \\{ (x,y) | (x,y) \\in B ~and~ (y,x) \\in B \\}$\n",
      "</div>"
     ]
    },
    {
     "cell_type": "markdown",
     "metadata": {},
     "source": [
      "<div class=\"alert alert-info\"> \n",
      "*Def.* **Asymmetric part** of $B$ is defined as \n",
      "$B^A:= B \\backslash B^C$\n",
      "or $B^A:= \\{ (x,y) | (x,y) \\in B ~and not~ (x,y) \\in B \\}$\n",
      "</div>"
     ]
    },
    {
     "cell_type": "heading",
     "level": 2,
     "metadata": {},
     "source": [
      "Interpretation"
     ]
    },
    {
     "cell_type": "markdown",
     "metadata": {},
     "source": [
      "* Preferences are represented by **Binary Relations**\n",
      "* $\\succsim $ means \"at least as good as\""
     ]
    },
    {
     "cell_type": "heading",
     "level": 2,
     "metadata": {},
     "source": [
      "Properties of Binary Relations"
     ]
    },
    {
     "cell_type": "markdown",
     "metadata": {},
     "source": [
      "<div class=\"alert alert-info\"> \n",
      "*Def.* $B$ is **Symmetric** \n",
      "if $(\\forall x,y )$ \n",
      "$xBy \\Rightarrow yBx$ i.e. \n",
      "$(x,y) \\in B \\Rightarrow (y,x) \\in B$.\n",
      "</div>\n",
      "Note that a set $F = \\emptyset$ is symmetric. "
     ]
    },
    {
     "cell_type": "markdown",
     "metadata": {},
     "source": [
      "Observe that \n",
      "$B^S = B \n",
      "\\Leftrightarrow \n",
      "B \\cap B^C = B \n",
      "\\Leftrightarrow\n",
      "B = B^C \n",
      "\\Leftrightarrow\n",
      "B \\backslash B^C = \\emptyset \n",
      "\\Leftrightarrow\n",
      "B^A = \\emptyset\n",
      "$"
     ]
    },
    {
     "cell_type": "markdown",
     "metadata": {},
     "source": [
      "<div class=\"alert alert-info\"> \n",
      "*Def.* $B$ is **Asymmetric** \n",
      "if $(\\forall x,y)$\n",
      "$xBy \\Rightarrow ~not~ yBx$\n",
      "</div>\n",
      "Note that a set $F = \\emptyset$ is also **asymmetric**. "
     ]
    },
    {
     "cell_type": "markdown",
     "metadata": {},
     "source": [
      "Observe that \n",
      "$B^S = 0 \n",
      "\\Leftrightarrow \n",
      "B \\cap B^C = \\emptyset \n",
      "\\Leftrightarrow\n",
      "B \\backslash B^C = B \n",
      "\\Leftrightarrow\n",
      "B^A = B\n",
      "$"
     ]
    },
    {
     "cell_type": "markdown",
     "metadata": {},
     "source": [
      "<div class=\"alert alert-info\"> \n",
      "*Def.* $B$ is **Antisymmetric** \n",
      "if $(\\forall x,y)$ \n",
      "$xBy ~and~ yBx \\Rightarrow x=y$ \n",
      "i.e. $B \\subseteq \\{ (x,y) | x=y \\}$\n",
      "</div>\n",
      "\n",
      "Example 1. $X = R$, with $B = \\{ (x,y) | x \\geq y \\}$. \n",
      "Thus $B$ is antisymmetric. \n",
      "\n",
      "Example 2. $X = R$, with $P = \\{ (x,y) | x >y \\}$. Thus, $B$ is also antisymmetric because the $[x>y ~and~ y> x]$ is false and $x=y$ is also false. Thus $p \\Rightarrow q$ is true in this case. Use true table of $p \\Rightarrow q$. "
     ]
    }
   ],
   "metadata": {}
  }
 ]
}