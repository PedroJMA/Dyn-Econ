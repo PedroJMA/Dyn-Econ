{
 "metadata": {
  "name": "",
  "signature": "sha256:d27c3e3c132c9b23e630f4ef9b208cbbfc9e620c64ebf6b821405fa2e3cac1ac"
 },
 "nbformat": 3,
 "nbformat_minor": 0,
 "worksheets": [
  {
   "cells": [
    {
     "cell_type": "heading",
     "level": 1,
     "metadata": {},
     "source": [
      "2. Real Analysis"
     ]
    },
    {
     "cell_type": "markdown",
     "metadata": {},
     "source": [
      "$\\newcommand{\\R}{\\mathbb{R}}$\n",
      "$\\newcommand{\\N}{\\mathbb{N}}$\n",
      "$\\newcommand{\\iff}{\\Leftrightarrow}$\n",
      "$\\newcommand{\\to}{\\rightarrow}$\n",
      "\n",
      "<div class=\"alert alert-info\"> \n",
      "*Def.* Fix $X$. A **metric** for $X$ is a function \n",
      "$d:X\\times X \\rightarrow \\mathbb{R}$\n",
      "such that <br>\n",
      "<ul>\n",
      "<li> $\\forall x, x' \\in X, d(x,x') \\geq 0$\n",
      "<li> $d(x,x') = 0 \\Leftrightarrow x=x'$\n",
      "<li> $\\forall x, x' \\in X, d(x, x') = d(x', x)$\n",
      "<li> $\\forall x, x', x'' \\in X d(x, x') \\leq d(x,x'') + d(x'', x')$ <br> (Triangle inequality)\n",
      "</ul>\n",
      "</div>\n",
      "If $d$ is a **metric** for $X$, $(X,d)$ is a **metric space**. "
     ]
    },
    {
     "cell_type": "markdown",
     "metadata": {},
     "source": [
      "<div class=\"alert alert-info\"> \n",
      "*Def.* **Euclidian norm** <br>\n",
      "Let $X = \\mathbb{R}^K$, $K \\in \\mathbb{N}$\n",
      "where $x \\in \\mathbb{R}^K$, with $x = (x_1, x_2, \\ldots, x_K)$; <br> <br>\n",
      "For $x \\in \\mathbb{R}^K$, $\\lVert x \\rVert = \\sqrt{\\sum_{K=1}^K x^2_K}$\n",
      "</div>\n",
      "$\\newcommand{\\norm}[1]{\\left\\lVert #1 \\right\\rVert} $"
     ]
    },
    {
     "cell_type": "markdown",
     "metadata": {},
     "source": [
      "<div class=\"alert alert-error\">\n",
      "*Lemma*. $\\forall x, y \\in \\mathbb{R}^K$ \n",
      "$$ \n",
      "\\norm{x+y} \\leq \\norm{x} + \\norm{y}\n",
      "$$\n",
      "</div> \n",
      "<div class=\"alert alert-success\">\n",
      "*Proof*. <br>\n",
      "$$\n",
      "\\begin{eqnarray}\n",
      "\\norm{x+y}^2 &=& \\sum_K (x_K + y_K)^2 = \\sum_K x^2_K + \\sum_K 2 x_K y_K + \\sum_K y_K^2 \\\\\n",
      " &\\leq& \\sum_K x^2_K + \\sqrt{\\sum_K x^2_K}\\sqrt{\\sum_K y^2_K} + \\sum_K y_K^2 \\\\\n",
      "&=& \\left( \\sqrt{\\sum_K x^2_K} + \\sqrt{\\sum_K y^2_K} \\right)^2 = ( \\norm{x} + \\norm{y} )^2 \\\\\n",
      "&\\therefore& \\norm{x+y} \\leq \\norm{x} + \\norm{y} \\\\\n",
      "\\end{eqnarray}\n",
      "$$ \n",
      "where Cauchy-Schwarts inequality is given by $\\left(\\forall x, y \\in \\mathbb{R}^K, \\left( \\sum_K x_K y_K \\right)^2 \\leq \\sum_K x^2_K + \\sum_K y^2_K \\right)$. $\\blacksquare$ \n",
      "</div>"
     ]
    },
    {
     "cell_type": "markdown",
     "metadata": {},
     "source": [
      "<div class=\"alert alert-error\">\n",
      "*Thm* Let $d:\\R^K \\times \\R^K \\to \\R$, $d(x,x') = \\norm{x-x'}$, (\\R^K, d) is a **metric space**. \n",
      "</div>\n",
      "<div class=\"alert alert-success\">\n",
      "*Proof*. <br>\n",
      "<ul>\n",
      "<li> (i) done:  $d(x,x') = \\sqrt{\\sum_K(x_K - x'_K)}$\n",
      "<li> (ii) done \n",
      "<li> (iii) $\\sqrt{\\sum_K(x_K - x'_K)} = \\sqrt{\\sum_K(x'_K - x_K)}$\n",
      "<li> $d(x,x') = \\norm{x-x'} = \\norm{x-x' + x''-x''} = \\norm{(x-x'') + (x''-x')}$ by lemma<br>\n",
      "but $\\norm{(x-x'') + (x''-x')} \\leq \\norm{x-x''} + \\norm{x''-x'} = d(x, x'') + d(x'', x')$ <br>\n",
      "$\\therefore$ $d(x,x') \\leq d(x, x'') + d(x'', x')$\n",
      "$\\blacksquare$\n",
      "</ul>\n",
      "</div>"
     ]
    },
    {
     "cell_type": "markdown",
     "metadata": {},
     "source": [
      "<div class=\"alert alert-info\"> \n",
      "*Def.* A sequence in $\\R^K$ is a function $f:\\N \\to \\R^K$ <br> <br>\n",
      "Notation: $f(n) = x_n \\in \\R^K$ <br> \n",
      "$x_n = (x_{n,1}, x_{n,2}, \\ldots, x_{n,K})$ <br>\n",
      "$(x_n)^\\infty_{n=1}$\n",
      "</div>\n",
      "Therefore, in a sequence **order matters**."
     ]
    },
    {
     "cell_type": "markdown",
     "metadata": {},
     "source": [
      "<div class=\"alert alert-info\"> \n",
      "*Def.* If $K=1$, sequence $(x_K)_{K=1}^\\infty$ is **increasing** (non-decreasing) if <br>\n",
      "$\\forall n \\in \\N$, $x_{n+1} > x_n$ $( \\geq )$\n",
      "</div>\n",
      "\n",
      "<div class=\"alert alert-info\"> \n",
      "*Def.* Sequence $(x_n)_{n=1}^\\infty$ in $\\R^K$ is <br>\n",
      "<ul>\n",
      "<li> bounded **above** if $\\exists \\bar{x} \\in \\R^K: \\forall n \\in \\N, x_n \\leq \\bar{x}$  \n",
      "<li> bounded **below** if $\\exists \\underline{x} \\in \\R^K: \\forall n \\in \\N, x_n \\geq \\bar{x}$\n",
      "<li> **bounded** if it is bounded above and below. \n",
      "</ul>\n",
      "</div>"
     ]
    },
    {
     "cell_type": "markdown",
     "metadata": {},
     "source": [
      "<div class=\"alert alert-error\">\n",
      "*Thm*. A sequence $(x_n)_{n=1}^\\infty$ is **bounded** if, and only if, $\\exists \\alpha \\in \\R: \\forall x \\in \\N, \\norm{x_n} \\leq \\alpha$\n",
      "</div>\n",
      "\n",
      "<div class=\"alert alert-success\">\n",
      "*Proof*. For you. $\\blacksquare$\n",
      "</div>"
     ]
    },
    {
     "cell_type": "markdown",
     "metadata": {},
     "source": [
      "<div class=\"alert alert-info\"> \n",
      "*Def.* Sequence $(y_m)_{m=1}^\\infty$ is a **subsequence** of $(x_n)_{n=1}^\\infty$ if <br><br> \n",
      "$\\exists$ an increasing sequence $(n_m)_{m=1}^\\infty$ in $\\N$ such that $\\forall m \\in \\N, y_m = X_{n_m}$. <br> <br> \n",
      "That is, $\\exists$ $(n_m)_{m=1}^\\infty$ such that <br>\n",
      "<ul>\n",
      "<li> (1) $\\forall m \\in \\N, n_m \\in \\N$\n",
      "<li> (2) $n_{m+1} > n_m \\forall m$\n",
      "<li> (3) $\\forall m, y_m = x_{n_m}$\n",
      "</ul>\n",
      "</div>"
     ]
    },
    {
     "cell_type": "markdown",
     "metadata": {},
     "source": [
      "<div class=\"alert alert-info\"> \n",
      "*Def.* A sequence $(x_n)_{n=1}^\\infty$ (in $\\R^K$) is **Cauchy** if <br><br>\n",
      "$\\forall \\varepsilon >0, \\exists n^* \\in \\N: \\forall n,n' \\geq n^*, \\norm{x_n - x_{n'}} < \\varepsilon $\n",
      "</div>\n",
      "\n",
      "Note that \n",
      "$$\n",
      "\\neg \\left(\n",
      "\\forall \\varepsilon >0, \\exists n^* \\in \\N: \\forall n,n' \\geq n^*, \\norm{x_n - x_{n'}} < \\varepsilon \n",
      "\\right)\n",
      "$$\n",
      "$\\iff$\n",
      "$$\n",
      "\\exists \\varepsilon >0: \\forall n^* \\in \\N: \\exists n,n' \\geq n^*, \\norm{x_n - x_{n'}} \\geq \\varepsilon \n",
      "$$\n"
     ]
    },
    {
     "cell_type": "markdown",
     "metadata": {},
     "source": [
      "<div class=\"alert alert-info\"> \n",
      "*Def.*[Property of sequence and point] <br>\n",
      "Let $(x_n)_{n=1}^\\infty$ be a sequence in $\\R^K$. A point $x \\in \\R^K$ is **THE** limit of $(x_n)_{n=1}^\\infty$ if <br><br> \n",
      "$\\forall \\varepsilon >0, \\exists n^* \\in \\N: \\forall n\\geq n^*, \\norm{x_n - x} < \\varepsilon$. \n",
      "</div>\n",
      "Note that $\\norm{x_n - x} < \\varepsilon$ is fixed arround $x$. \n",
      "\n",
      "<div class=\"alert alert-success\">\n",
      "*Proof*. Suppose $x, x' \\in \\R^K, x\\neq x'$, which are both limits of $(x_n)_{n=1}^\\infty$. <br>\n",
      "Let $\\varepsilon = (1/2)\\norm{x-x'}>0$. <br>\n",
      "$\\exists n^* \\in \\N: \\forall n\\geq n^*, \\norm{x_n - x} < \\varepsilon $ ($x$ is limit) <br>\n",
      "$\\exists \\tilde{n} \\in \\N: \\forall n\\geq \\tilde{n}, \\norm{x_n - x'} < \\varepsilon $ ($x'$ is limit) <br>\n",
      "Let $n = max\\{n^* , \\tilde{n}\\}$. <br>\n",
      "$\\norm{x-x'}= \\norm{x-x_n + x_n - x'} \\leq \\norm{x-x_n} + \\norm{x_n-x'} < 2\\varepsilon = \\norm{x-x'}$<br> \n",
      "$\\therefore \\norm{x-x'} < \\norm{x-x'}$. Contradiction. $\\blacksquare$\n",
      "</div>\n",
      "\n",
      "Notation: $\\lim_{n \\to \\infty} x_n = x$ means $x_n \\to x$"
     ]
    },
    {
     "cell_type": "markdown",
     "metadata": {},
     "source": [
      "<div class=\"alert alert-error\">\n",
      "*Thm*. A sequence (in $\\R^K$) is **convergent** if, and only if, it is **Cauchy**. \n",
      "</div>\n",
      "\n",
      "<div class=\"alert alert-success\">\n",
      "*Proof*. If, we take for granted. <br><br>\n",
      "\n",
      "*Only if*: <br> \n",
      "\n",
      "W: $\\forall \\varepsilon >0, \\exists n^* \\in \\N: \\forall n, n' \\geq n^*, \\norm{x_n - x_{n'}} < \\varepsilon$ <br>\n",
      "H: For some $x \\in \\R^K$, $\\forall \\tilde{\\varepsilon}>0, \\exists n^* \\in \\N: \\forall n \\geq n^*, \\norm{x_n - x} < \\tilde{\\varepsilon}$.<br><br>\n",
      "\n",
      "Let $\\varepsilon >0$. Let $\\tilde{\\varepsilon} = \\varepsilon / 2 >0$. So since $x_n \\to x$, \n",
      "$\\exists n^* \\in \\N: \\forall n \\geq n^*, \\norm{x_n - x} < \\tilde{\\varepsilon}$. <br>\n",
      "Fix such $n^*$. Let $n, n' \\geq n^*$ <br> \n",
      "$\\norm{x_n - x_{n'}} = \\norm{x_n - x + x - x_{n'}} \\leq \\norm{x_n - x} + \\norm{x_{n'} - x} < \\tilde{\\varepsilon} = \\varepsilon$ <br>\n",
      "$\\therefore$ If sequence is Cauchy then, it is convergent. \n",
      "</div>\n"
     ]
    },
    {
     "cell_type": "markdown",
     "metadata": {},
     "source": [
      "<div class=\"alert alert-error\">\n",
      "*Thm*. A sequence **converges** to a point, if and only if, all its **subsequences** converge to that point. \n",
      "</div>\n",
      "\n",
      "<div class=\"alert alert-success\">\n",
      "*Proof*. IF. Any sequence is a subsequence of itself (by assumption). <br><br>\n",
      "</div>"
     ]
    },
    {
     "cell_type": "code",
     "collapsed": false,
     "input": [],
     "language": "python",
     "metadata": {},
     "outputs": [],
     "prompt_number": 0
    },
    {
     "cell_type": "code",
     "collapsed": false,
     "input": [],
     "language": "python",
     "metadata": {},
     "outputs": []
    },
    {
     "cell_type": "markdown",
     "metadata": {},
     "source": [
      "Source: \n",
      "\n",
      "* [Math(2014-09-16).pdf](https://www.dropbox.com/s/79ybo1lgq5lbkdi/Math%282014-09-16%29.pdf?dl=0)\n",
      "* [Math(2014-09-18).pdf](https://www.dropbox.com/s/8ncs8abfpy6ej8f/Math%282014-09-18%29.pdf?dl=0)"
     ]
    }
   ],
   "metadata": {}
  }
 ]
}