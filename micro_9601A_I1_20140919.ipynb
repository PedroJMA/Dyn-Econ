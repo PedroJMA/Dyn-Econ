{
 "metadata": {
  "name": "",
  "signature": "sha256:2c066ad31b88496c45babe067fad3b3598e92fed254a067363235ec69b1af96f"
 },
 "nbformat": 3,
 "nbformat_minor": 0,
 "worksheets": [
  {
   "cells": [
    {
     "cell_type": "heading",
     "level": 1,
     "metadata": {},
     "source": [
      "Preference Theory"
     ]
    },
    {
     "cell_type": "markdown",
     "metadata": {},
     "source": [
      "Define $\\succsim $ as \"at least as good as\""
     ]
    },
    {
     "cell_type": "markdown",
     "metadata": {},
     "source": [
      "<div class=\"alert alert-info\"> \n",
      "*Def.* The **Cartesian product** of $X$ and $Y$ is \n",
      "$ X\\times Y := \\{(x,y) ~|~\n",
      "  x \\in X ~and~ y \\in Y\\} $\n",
      "</div>"
     ]
    },
    {
     "cell_type": "markdown",
     "metadata": {},
     "source": [
      "<div class=\"alert alert-info\"> \n",
      "*Def.* B is a **binary relation** on $X$ \n",
      "if $B \\subseteq X^2 $\n",
      "</div>\n",
      "That is, $B$ is a set of ordered sets; or B is a subset of the cartesian producto of $X \\times X$ i.e. $X^2$"
     ]
    },
    {
     "cell_type": "markdown",
     "metadata": {},
     "source": [
      "<div class=\"alert alert-info\"> \n",
      "**Notation.** $xBy$ means $(x,y) \\in B$\n",
      "</div>"
     ]
    },
    {
     "cell_type": "markdown",
     "metadata": {},
     "source": [
      "<div class=\"alert alert-info\"> \n",
      "*Def.* **Converse of the Binary relation** $B^C$ is defined as $B^C:= \\{ (x,y) ~|~ (x,y) \\in B \\}$\n",
      "</div>\n",
      "This means, that the converse is the mirrow ordered pair in the set. "
     ]
    },
    {
     "cell_type": "markdown",
     "metadata": {},
     "source": [
      "<div class=\"alert alert-info\"> \n",
      "*Def.* **Symmetric part** of B is defined as \n",
      "$B^S:= B \\cap B^C$ \n",
      "or\n",
      "$B^S:= \\{ (x,y) ~|~ (x,y) \\in B ~and~ (y,x) \\in B \\}$\n",
      "</div>"
     ]
    },
    {
     "cell_type": "markdown",
     "metadata": {},
     "source": [
      "<div class=\"alert alert-info\"> \n",
      "*Def.* **Asymmetric part** of $B$ is defined as \n",
      "$B^A:= B \\backslash B^C$\n",
      "or $B^A:= \\{ (x,y) ~|~ (x,y) \\in B ~and~not~ (x,y) \\in B \\}$\n",
      "</div>"
     ]
    },
    {
     "cell_type": "heading",
     "level": 2,
     "metadata": {},
     "source": [
      "Interpretation"
     ]
    },
    {
     "cell_type": "markdown",
     "metadata": {},
     "source": [
      "* Preferences are represented by **Binary Relations**\n",
      "* $\\succsim $ means \"at least as good as\""
     ]
    },
    {
     "cell_type": "heading",
     "level": 2,
     "metadata": {},
     "source": [
      "Properties of Binary Relations"
     ]
    },
    {
     "cell_type": "markdown",
     "metadata": {},
     "source": [
      "<div class=\"alert alert-success\"> \n",
      "*Axiom.* $B$ is **Symmetric**, $B^S$, \n",
      "if $(\\forall x,y )$ \n",
      "$xBy \\Rightarrow yBx$ i.e. \n",
      "$(x,y) \\in B \\Rightarrow (y,x) \\in B$.\n",
      "</div>\n",
      "Note that a set $F = \\emptyset$ is symmetric. \n",
      "\n",
      "Observe that \n",
      "$B^S = B \n",
      "\\Leftrightarrow \n",
      "B \\cap B^C = B \n",
      "\\Leftrightarrow\n",
      "B = B^C \n",
      "\\Leftrightarrow\n",
      "B \\backslash B^C = \\emptyset \n",
      "\\Leftrightarrow\n",
      "B^A = \\emptyset\n",
      "$"
     ]
    },
    {
     "cell_type": "markdown",
     "metadata": {},
     "source": [
      "<div class=\"alert alert-success\"> \n",
      "*Axiom.* $B$ is **Asymmetric**, $B^A$, \n",
      "if $(\\forall x,y)$\n",
      "$xBy \\Rightarrow ~not~ yBx$\n",
      "</div>\n",
      "Note that a set $F = \\emptyset$ is also **asymmetric**. \n",
      "\n",
      "Observe that \n",
      "$B^S = 0 \n",
      "\\Leftrightarrow \n",
      "B \\cap B^C = \\emptyset \n",
      "\\Leftrightarrow\n",
      "B \\backslash B^C = B \n",
      "\\Leftrightarrow\n",
      "B^A = B\n",
      "$"
     ]
    },
    {
     "cell_type": "markdown",
     "metadata": {},
     "source": [
      "<div class=\"alert alert-success\"> \n",
      "*Axiom.* $B$ is **Antisymmetric** \n",
      "if $(\\forall x,y)$ \n",
      "$xBy ~and~ yBx \\Rightarrow x=y$ \n",
      "i.e. $B \\subseteq \\{ (x,y) ~|~ x=y \\}$\n",
      "</div>\n",
      "\n",
      "Example 1. $X = R$, with $B = \\{ (x,y) ~|~ x \\geq y \\}$. \n",
      "Thus $B$ is antisymmetric. \n",
      "\n",
      "Example 2. $X = R$, with $P = \\{ (x,y) ~|~ x >y \\}$. Thus, $B$ is also antisymmetric because the $[x>y ~and~ y> x]$ is false and $x=y$ is also false. Thus $p \\Rightarrow q$ is true in this case. Use true table of $p \\Rightarrow q$. "
     ]
    },
    {
     "cell_type": "markdown",
     "metadata": {},
     "source": [
      "<div class=\"alert alert-success\"> \n",
      "*Axiom.* B holds **Transitivity** property if $(\\forall x, y, z)$ \n",
      "$xBy ~and~yBx \\Rightarrow xBz$\n",
      "</div>"
     ]
    },
    {
     "cell_type": "markdown",
     "metadata": {},
     "source": [
      "<div class=\"alert alert-success\"> \n",
      "*Axiom.* B holds **Reflexivity** property \n",
      "if $(\\forall x)$ \n",
      "$xBx$, $(x,x) \\in B$, \n",
      "$\\{(x,y) ~|~ x=y\\} \\subseteq B$\n",
      "</div>"
     ]
    },
    {
     "cell_type": "markdown",
     "metadata": {},
     "source": [
      "<div class=\"alert alert-success\"> \n",
      "*Axiom.* B holds **Completeness** property \n",
      "if $(\\forall x, y)$\n",
      "$xBy ~or~ yBx$. \n",
      "\n",
      "This means $B \\cup B^C = X^2$ which requires\n",
      "$B \\cup B^C \\subseteq X^2$ and \n",
      "$B \\cup B^C X^2 \\supseteq X^2$\n",
      "</div>"
     ]
    },
    {
     "cell_type": "markdown",
     "metadata": {},
     "source": [
      "**Properties of a Binary relation**\n",
      "\n",
      "* symmetry: $(x,y) \\in B \\Rightarrow (y,x) \\in B$ \n",
      "* asymmetry: $xBy \\Rightarrow ~not~ yBx$\n",
      "* antisymmetry: $xBy ~and~ yBx \\Rightarrow x=y$\n",
      "* transitivity: $xBy ~and~yBx \\Rightarrow xBz$ \n",
      "* reflexivity: $xBx$ \n",
      "* completeness: $xBy ~or~ yBx$\n",
      "\n",
      "Observe that \n",
      "* asymmetry implies antisymmetry,  and \n",
      "* completenes implies reflexivity. \n",
      "\n",
      "Recall the following relationships: \n",
      "* symmetry: $B^S = B \n",
      "\\Leftrightarrow \n",
      "B \\cap B^C = B \n",
      "\\Leftrightarrow\n",
      "B = B^C \n",
      "\\Leftrightarrow\n",
      "B \\backslash B^C = \\emptyset \n",
      "\\Leftrightarrow\n",
      "B^A = \\emptyset\n",
      "$\n",
      "* Asymmetry: $B^S = 0 \n",
      "\\Leftrightarrow \n",
      "B \\cap B^C = \\emptyset \n",
      "\\Leftrightarrow\n",
      "B \\backslash B^C = B \n",
      "\\Leftrightarrow\n",
      "B^A = B\n",
      "$"
     ]
    },
    {
     "cell_type": "markdown",
     "metadata": {},
     "source": [
      "<div class=\"alert alert-info\">\n",
      "*Def.* B is an **ordering** if it is *transitive* and *complete* [preordering, weak order].\n",
      "</div>"
     ]
    },
    {
     "cell_type": "markdown",
     "metadata": {},
     "source": [
      "<div class=\"alert alert-info\">\n",
      "*Def.* B is a **linear ordering** if it is *transitive*, *complete*, and *antisymmetric* [ordering].\n",
      "</div>"
     ]
    },
    {
     "cell_type": "markdown",
     "metadata": {},
     "source": [
      "<div class=\"alert alert-info\">\n",
      "*Def.* B is a **equivalence relation** if it is *transitive*, *reflexive*, and *symmetric*.\n",
      "</div>"
     ]
    },
    {
     "cell_type": "markdown",
     "metadata": {},
     "source": [
      "<div class=\"alert alert-error\">\n",
      "*Thm.* If B is **transitive**, then \n",
      "$xB^Ay ~and~ yBz \\Rightarrow xB^Az$\n",
      "</div>"
     ]
    },
    {
     "cell_type": "markdown",
     "metadata": {},
     "source": [
      "<div class=\"alert alert-error\">\n",
      "*Thm.* If B is an **ordering**, then $B^A$ is **transitive** and $B^S$ is an **equivalence relation**. \n",
      "</div>"
     ]
    },
    {
     "cell_type": "markdown",
     "metadata": {},
     "source": [
      "Define $\\bar{\\mathbb{R}} = [-\\infty, \\infty] = \\mathbb{R} \\cup \\{-\\infty, \\infty\\}$ \n",
      "\n",
      "<div class=\"alert alert-info\"> \n",
      "*Def.* $u: X \\rightarrow \\bar{\\mathbb{R}}$ **represents** $B \\subseteq X^2$ if \n",
      "$(\\forall x, y)~ xBy \\Leftrightarrow u(x) \\geq u(y)$ \n",
      "</div>\n",
      "\n",
      "This means $B = \\{ (x,y) ~|~ u(x) \\geq u(y)\\}$"
     ]
    },
    {
     "cell_type": "markdown",
     "metadata": {},
     "source": [
      "<div class=\"alert alert-error\">\n",
      "*Thm.* If B is **complete**, the $u$ **represents** B if, and only if \n",
      "$$ \n",
      "\\begin{eqnarray}\n",
      "xB^Ay & \\Rightarrow & u(x) > u(y) \\\\\n",
      "xB^Sy & \\Rightarrow & u(x) = u(y) \\\\\n",
      "\\end{eqnarray}\n",
      "$$\n",
      "</div>"
     ]
    },
    {
     "cell_type": "markdown",
     "metadata": {},
     "source": [
      "<div class=\"alert alert-error\">\n",
      "*Thm.* If B is an **ordering** and X is **finite**, then it has a **representation**. \n",
      "</div>"
     ]
    },
    {
     "cell_type": "markdown",
     "metadata": {},
     "source": [
      "<div class=\"alert alert-error\">\n",
      "*Thm.* If B has a **representation**, then B is an **ordering**. \n",
      "</div>\n",
      "\n",
      "<div class=\"alert alert-success\">\n",
      "Proof: Assume B has a **representation**, then B is an ordering (by *complete* and *transitive*). \n",
      "\n",
      "<br\\>\n",
      "(**completeness**): Take any $x$ and $y$, then $u(x) \\geq u(y)$ or $u(y) \\geq u(x)$, $\\therefore xBy ~or~ yBx$. \n",
      "<br\\>\n",
      "\n",
      "(**Transitivity**): Show ($\\forall x,y,z$) \n",
      "$xBy ~and~ yBz \\Rightarrow xBz $. \n",
      "Take some $x, y, z$. Assume $xBy ~and~ yBz$, then \n",
      "$u(x) \\geq u(y) ~and~ u(y) \\geq u(z) \\Rightarrow u(x) \\geq u(z)$.\n",
      "</div>\n",
      "\n",
      "Therefore, you can prove transitivity without completeness. \n",
      "\n",
      "Recall that \n",
      "$u$ represents $\\succsim$, $( \\forall x, y) u(x) \\geq u(y) \\Leftrightarrow xBy$\n"
     ]
    },
    {
     "cell_type": "markdown",
     "metadata": {},
     "source": [
      "<div class=\"alert alert-info\"> \n",
      "*Def.* $B \\subseteq \\mathbb{R}^L_+$ is **continuous** if $(\\forall x)$ $\\{y ~|~ yBx \\}$ and $\\{y ~|~ xBy \\}$ are **closed**. \n",
      "</div>\n",
      "\n",
      "Note that $\\{y ~|~ yBx \\}$ is the **upper contour set** (u.c.s) and $\\{y ~|~ xBy \\}$ is the **lower contour set** (l.c.s)."
     ]
    },
    {
     "cell_type": "markdown",
     "metadata": {},
     "source": [
      "<div class=\"alert alert-error\">\n",
      "*Thm.* (Debreu, 1952)\n",
      "Every **continuous ordering** on $\\mathbb{R}^L_+$ has a representation. (The representation is real-valued and continuous). \n",
      "</div>"
     ]
    },
    {
     "cell_type": "markdown",
     "metadata": {},
     "source": [
      "**Lexicographic** relation\n",
      "\n",
      "$X= \\mathbb{R}^2_+$, \n",
      "$B= \\{(x,y) ~|~ x_1>y_1 ~or~ (x_1=y_1 ~and~ x_2 \\geq y_2)\\}$\n",
      "\n",
      "Note that $B$ is not continue and it is an Ordering but does not have a representation.\n",
      "\n",
      "Because, \n",
      "l.c.s for lexicographic is not closed, therefore not continuous. \n"
     ]
    },
    {
     "cell_type": "markdown",
     "metadata": {},
     "source": [
      "Source: \n",
      "* [Micro(2014-09-08).pdf](https://www.dropbox.com/s/9sbdmskp50ljcud/Micro%282014-09-08%29.pdf?dl=0) \n",
      "* [Micro(2014-09-10).pdf](https://www.dropbox.com/s/lngqz8jmh6l06al/Micro%282014-09-10%29.pdf?dl=0)\n",
      "* [Micro(2014-09-15).pdf](https://www.dropbox.com/s/0fk2b5ll4dseia3/Micro%282014-09-15%29.pdf?dl=0)"
     ]
    }
   ],
   "metadata": {}
  }
 ]
}