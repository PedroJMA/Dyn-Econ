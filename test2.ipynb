{
 "metadata": {
  "name": "",
  "signature": "sha256:b8cdb62c3cade58b3dfe4bdfd17f9f35417c0bff106e2124a0e4ef4ae435e0b1"
 },
 "nbformat": 3,
 "nbformat_minor": 0,
 "worksheets": [
  {
   "cells": [
    {
     "cell_type": "heading",
     "level": 1,
     "metadata": {},
     "source": [
      "More examples"
     ]
    },
    {
     "cell_type": "markdown",
     "metadata": {},
     "source": [
      "this note is only for fun"
     ]
    },
    {
     "cell_type": "heading",
     "level": 4,
     "metadata": {},
     "source": [
      "Example 3"
     ]
    },
    {
     "cell_type": "markdown",
     "metadata": {},
     "source": [
      "For example, let's calculate $\\int_2^2 \\phi(z) dz$ where $\\phi$ is the standard normal density"
     ]
    },
    {
     "cell_type": "code",
     "collapsed": false,
     "input": [
      "from scipy.stats import norm\n",
      "from scipy.integrate import quad\n",
      "phi = norm()\n",
      "value, error = quad(phi.pdf,-2,2) #Integrate using Gaussian quadrature\n",
      "value"
     ],
     "language": "python",
     "metadata": {},
     "outputs": [
      {
       "metadata": {},
       "output_type": "pyout",
       "prompt_number": 1,
       "text": [
        "0.9544997361036417"
       ]
      }
     ],
     "prompt_number": 1
    },
    {
     "cell_type": "heading",
     "level": 4,
     "metadata": {},
     "source": [
      "Example 4 - Pandas"
     ]
    },
    {
     "cell_type": "code",
     "collapsed": false,
     "input": [
      "import pandas as pd\n",
      "import scipy as sp\n",
      "data = sp.randn(5,2) #create 5x2 matrix of random numbers for toy example\n",
      "dates = pd.date_range('28/12/2010',periods=5)\n",
      "df = pd.DataFrame(data, columns=('price', 'weight'), index=dates)\n",
      "print df"
     ],
     "language": "python",
     "metadata": {},
     "outputs": [
      {
       "output_type": "stream",
       "stream": "stdout",
       "text": [
        "               price    weight\n",
        "2010-12-28 -1.848889  0.406166\n",
        "2010-12-29  0.233655 -0.863513\n",
        "2010-12-30  0.011490  0.462488\n",
        "2010-12-31  1.912398 -0.747732\n",
        "2011-01-01 -0.817368  1.436500\n"
       ]
      }
     ],
     "prompt_number": 2
    },
    {
     "cell_type": "code",
     "collapsed": false,
     "input": [
      "df.mean()"
     ],
     "language": "python",
     "metadata": {},
     "outputs": [
      {
       "metadata": {},
       "output_type": "pyout",
       "prompt_number": 3,
       "text": [
        "price    -0.101743\n",
        "weight    0.138782\n",
        "dtype: float64"
       ]
      }
     ],
     "prompt_number": 3
    },
    {
     "cell_type": "heading",
     "level": 4,
     "metadata": {},
     "source": [
      "Example 4"
     ]
    },
    {
     "cell_type": "code",
     "collapsed": false,
     "input": [
      "from quantecon import approx_markov\n",
      "states, matrix = approx_markov(0.9, 0.1, n=4)\n",
      "print matrix"
     ],
     "language": "python",
     "metadata": {},
     "outputs": [
      {
       "output_type": "stream",
       "stream": "stdout",
       "text": [
        "[[  9.45853172e-01   5.41468277e-02   2.92862845e-10   0.00000000e+00]\n",
        " [  5.80844572e-03   9.74717826e-01   1.94737279e-02   1.43534074e-11]\n",
        " [  1.43534176e-11   1.94737279e-02   9.74717826e-01   5.80844572e-03]\n",
        " [  2.08116595e-27   2.92862879e-10   5.41468277e-02   9.45853172e-01]]\n"
       ]
      }
     ],
     "prompt_number": 4
    },
    {
     "cell_type": "code",
     "collapsed": false,
     "input": [
      "print states"
     ],
     "language": "python",
     "metadata": {},
     "outputs": [
      {
       "output_type": "stream",
       "stream": "stdout",
       "text": [
        "[-0.6882472  -0.22941573  0.22941573  0.6882472 ]\n"
       ]
      }
     ],
     "prompt_number": 5
    },
    {
     "cell_type": "heading",
     "level": 4,
     "metadata": {},
     "source": [
      "Example 1"
     ]
    },
    {
     "cell_type": "code",
     "collapsed": false,
     "input": [
      "%matplotlib inline\n",
      "%load http://matplotlib.sourceforge.net/mpl_examples/pylab_examples/integral_demo.py"
     ],
     "language": "python",
     "metadata": {},
     "outputs": [],
     "prompt_number": 6
    },
    {
     "cell_type": "code",
     "collapsed": false,
     "input": [
      "#!/usr/bin/env python\n",
      "\n",
      "# implement the example graphs/integral from pyx\n",
      "from pylab import *\n",
      "from matplotlib.patches import Polygon\n",
      "\n",
      "def func(x):\n",
      "    return (x-3)*(x-5)*(x-7)+85\n",
      "\n",
      "ax = subplot(111)\n",
      "\n",
      "a, b = 2, 9 # integral area\n",
      "x = arange(0, 10, 0.01)\n",
      "y = func(x)\n",
      "plot(x, y, linewidth=1)\n",
      "\n",
      "# make the shaded region\n",
      "ix = arange(a, b, 0.01)\n",
      "iy = func(ix)\n",
      "verts = [(a,0)] + list(zip(ix,iy)) + [(b,0)]\n",
      "poly = Polygon(verts, facecolor='0.8', edgecolor='k')\n",
      "ax.add_patch(poly)\n",
      "\n",
      "text(0.5 * (a + b), 30,\n",
      "     r\"$\\int_a^b f(x)\\mathrm{d}x$\", horizontalalignment='center',\n",
      "     fontsize=20)\n",
      "\n",
      "axis([0,10, 0, 180])\n",
      "figtext(0.9, 0.05, 'x')\n",
      "figtext(0.1, 0.9, 'y')\n",
      "ax.set_xticks((a,b))\n",
      "ax.set_xticklabels(('a','b'))\n",
      "ax.set_yticks([])\n",
      "show()\n"
     ],
     "language": "python",
     "metadata": {},
     "outputs": []
    },
    {
     "cell_type": "code",
     "collapsed": false,
     "input": [
      "#!/usr/bin/env python\n",
      "\n",
      "# implement the example graphs/integral from pyx\n",
      "from pylab import *\n",
      "from matplotlib.patches import Polygon\n",
      "\n",
      "def func(x):\n",
      "    return (x-3)*(x-5)*(x-7)+85\n",
      "\n",
      "ax = subplot(111)\n",
      "\n",
      "a, b = 2, 9 # integral area\n",
      "x = arange(0, 10, 0.01)\n",
      "y = func(x)\n",
      "plot(x, y, linewidth=1)\n",
      "\n",
      "# make the shaded region\n",
      "ix = arange(a, b, 0.01)\n",
      "iy = func(ix)\n",
      "verts = [(a,0)] + list(zip(ix,iy)) + [(b,0)]\n",
      "poly = Polygon(verts, facecolor='0.8', edgecolor='k')\n",
      "ax.add_patch(poly)\n",
      "\n",
      "text(0.5 * (a + b), 30,\n",
      "     r\"$\\int_a^b f(x)\\mathrm{d}x$\", horizontalalignment='center',\n",
      "     fontsize=20)\n",
      "\n",
      "axis([0,10, 0, 180])\n",
      "figtext(0.9, 0.05, 'x')\n",
      "figtext(0.1, 0.9, 'y')\n",
      "ax.set_xticks((a,b))\n",
      "ax.set_xticklabels(('a','b'))\n",
      "ax.set_yticks([])\n",
      "show()\n"
     ],
     "language": "python",
     "metadata": {},
     "outputs": [
      {
       "metadata": {},
       "output_type": "display_data",
       "png": "[encoded data removed]",
       "text": [
        "<matplotlib.figure.Figure at 0x108c11510>"
       ]
      }
     ],
     "prompt_number": 7
    },
    {
     "cell_type": "heading",
     "level": 4,
     "metadata": {},
     "source": [
      "Example 2"
     ]
    },
    {
     "cell_type": "code",
     "collapsed": false,
     "input": [
      "%matplotlib inline\n",
      "import numpy as np\n",
      "import matplotlib.pyplot as plt\n",
      "\n",
      "N = 50\n",
      "x = np.random.rand(N)\n",
      "y = np.random.rand(N)\n",
      "area = np.pi * (15 * np.random.rand(N))**2 # 0 to 15 point radiuses\n",
      "\n",
      "plt.scatter(x, y, s=area, alpha=0.5)\n",
      "plt.show()"
     ],
     "language": "python",
     "metadata": {},
     "outputs": [
      {
       "metadata": {},
       "output_type": "display_data",
       "png": "[encoded data removed]",
       "text": [
        "<matplotlib.figure.Figure at 0x108d72410>"
       ]
      }
     ],
     "prompt_number": 8
    },
    {
     "cell_type": "code",
     "collapsed": false,
     "input": [],
     "language": "python",
     "metadata": {},
     "outputs": [],
     "prompt_number": 8
    }
   ],
   "metadata": {}
  }
 ]
}