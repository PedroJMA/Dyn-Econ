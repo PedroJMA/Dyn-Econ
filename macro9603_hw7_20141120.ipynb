{
 "metadata": {
  "name": "",
  "signature": "sha256:cab1700bf0cd654c7a9c0b80ccb83e28f32c6d348b1c3217973b7565892bbd7e"
 },
 "nbformat": 3,
 "nbformat_minor": 0,
 "worksheets": [
  {
   "cells": [
    {
     "cell_type": "heading",
     "level": 1,
     "metadata": {},
     "source": [
      "Macro I - Econ 9603"
     ]
    },
    {
     "cell_type": "markdown",
     "metadata": {},
     "source": [
      "by Pedro-Jos\u00e9 Mart\u00ednez-Alanis. \n",
      "\n",
      "2014 / 11 / 20"
     ]
    },
    {
     "cell_type": "heading",
     "level": 2,
     "metadata": {},
     "source": [
      "Homework 7 - Problem 1"
     ]
    },
    {
     "cell_type": "markdown",
     "metadata": {},
     "source": [
      "Consider the Bellman equation for the neoclassical growth model: \n",
      "$$ \n",
      "v(k) = \\max_{0\\leq k' \\leq f(k)} \\{ u(f(k) - k') + \\beta v(k') \\}\n",
      "$$\n",
      "where $u(c) = log(c)$, $f(k) = A k^\\alpha + (1-\\delta)k$, $A=10$, $\\beta = 0.75$, and $\\alpha = 1/3$.>"
     ]
    },
    {
     "cell_type": "markdown",
     "metadata": {},
     "source": [
      "$$\\newcommand{\\oa}[1]{\\left(#1\\right)}$$\n",
      "The capital stock steady state is given by: \n",
      "$$\n",
      "k = \\oa{\\frac{\\alpha A}{ \\frac{1}{\\beta} + \\delta - 1}}^{\\frac{1}{1-\\alpha}}\n",
      "$$"
     ]
    },
    {
     "cell_type": "markdown",
     "metadata": {},
     "source": [
      "$$\\newcommand{\\ob}[1]{\\left[#1\\right]}$$\n",
      "$$\\newcommand{\\oc}[1]{\\left\\{#1\\right\\}}$$\n",
      "If $\\delta = 1$, the policy function is given by \n",
      "$$\n",
      "k' = \\alpha \\beta A k^\\alpha\n",
      "$$\n",
      "and the value function is\n",
      "$$\n",
      "v(k) = A_0 + A_1 \\log(k)\n",
      "$$\n",
      "where $A_1 = \\frac{\\alpha}{1-\\alpha \\beta}$ and $A_0 = \\frac{1}{1-\\beta}\\ob{ \\log\\oa{(1-\\alpha\\beta)A} + \\beta A_1 \\log(\\alpha \\beta A) }$"
     ]
    },
    {
     "cell_type": "code",
     "collapsed": false,
     "input": [
      "from __future__ import division\n",
      "import numpy as np\n",
      "import matplotlib.pyplot as plt\n",
      "import sympy as sy\n"
     ],
     "language": "python",
     "metadata": {},
     "outputs": [],
     "prompt_number": 1
    },
    {
     "cell_type": "code",
     "collapsed": false,
     "input": [
      "#Parameters \n",
      "\n",
      "A = 10\n",
      "beta = 0.75 \n",
      "alpha = 1/3\n",
      "delta = 1\n",
      "\n",
      "gk = 50 #grid\n"
     ],
     "language": "python",
     "metadata": {},
     "outputs": [],
     "prompt_number": 2
    },
    {
     "cell_type": "code",
     "collapsed": false,
     "input": [
      "# Capital steady state - value\n",
      "kss = ((alpha*A)/(1/beta + delta - 1))**(1/(1-alpha))\n",
      "print 'capital stock - steady state value', kss\n",
      "\n",
      "#Grid of capital\n",
      "k = np.linspace(2*kss/gk, 2*kss, gk) \n",
      "\n",
      "#Output\n",
      "def f(k):\n",
      "    f = A*(k)**(alpha) + (1-delta)*k\n",
      "    return f\n",
      "\n",
      "# Value function - explicit formula\n",
      "a1 = alpha/(1-alpha*beta)\n",
      "a0 = (1/(1-beta))*(np.log( (1-alpha*beta)*A ) + beta*a1*np.log(alpha*beta*A) )\n",
      "\n",
      "def v0(k):\n",
      "    vk = a0 + a1*np.log(k)\n",
      "    return vk\n",
      "\n",
      "print 'v(k at steady state) is', v0(kss)\n",
      "v_true = v0(k)"
     ],
     "language": "python",
     "metadata": {},
     "outputs": [
      {
       "output_type": "stream",
       "stream": "stdout",
       "text": [
        "capital stock - steady state value 3.95284707521\n",
        "v(k at steady state) is 9.89219354592\n"
       ]
      }
     ],
     "prompt_number": 3
    },
    {
     "cell_type": "code",
     "collapsed": false,
     "input": [
      "# Compute a (gk x gk) dimensional consumption matrix c \n",
      "# for all the (gk x gk) values of k_t, k_t+1 \n",
      "\n",
      "u = np.ones(shape=(gk,gk)) \n",
      "for h in range(gk): \n",
      "    for i in range(gk):\n",
      "        if f(k[h]) - k[i] <=0:\n",
      "            u[h,i] = -float(\"inf\")\n",
      "        else :\n",
      "            u[h,i] = np.log( f(k[h]) - k[i] )\n",
      "# h is the counter for the endogenous state variable k_t \n",
      "# i is the counter for the control variable k_t+1 "
     ],
     "language": "python",
     "metadata": {},
     "outputs": [],
     "prompt_number": 4
    },
    {
     "cell_type": "code",
     "collapsed": false,
     "input": [
      "# initial v \n",
      "v = np.zeros(shape=(gk,1)) \n",
      "Tv = np.zeros(shape=(gk,1))\n",
      "gridpoint = np.zeros(shape=(gk,1))\n",
      "# Set parameters for the loop \n",
      "convcrit = 10e-6 # chosen convergence criterion\n",
      "diff = 1 # arbitrary initial value greater than convcrit\n",
      "iter = 0 # iterations counter\n",
      "\n",
      "#while diff > convcrit :\n",
      "while iter < 20: \n",
      "    for h in range(gk):\n",
      "        Tv[h] = np.max( u[h,:] + beta*v.transpose() )\n",
      "        gridpoint[h] = np.argmax( u[h,:] + beta*v.transpose() )\n",
      "    iter = iter + 1\n",
      "    #diff = np.linalg.norm(Tv-v)-1\n",
      "    v = Tv\n",
      "    point = np.array(gridpoint).tolist()\n",
      "    #print Tv\n",
      "#print iter\n",
      "\n",
      "gk = [ k[p] for p in point]"
     ],
     "language": "python",
     "metadata": {},
     "outputs": [],
     "prompt_number": 5
    },
    {
     "cell_type": "code",
     "collapsed": false,
     "input": [
      "%matplotlib inline \n",
      "import matplotlib.pyplot as plt\n",
      "\n",
      "plt.plot(k,v,'.')\n",
      "plt.plot(k,v_true)\n",
      "plt.title('Value function with $\\delta = 1$ (grid = 50)', fontsize=18)\n",
      "plt.ylabel('$v(k)$', fontsize=18)\n",
      "plt.xlabel('$k$', fontsize=18)\n",
      "plt.savefig(\"v_d1_g50.pdf\")\n",
      "plt.savefig(\"/Users/PedroJMA/Dropbox/ah UWO 2014/1st-year/macro/hw7/v_d1_g50.png\")\n",
      "plt.show()"
     ],
     "language": "python",
     "metadata": {},
     "outputs": [
      {
       "metadata": {},
       "output_type": "display_data",
       "png": "[encoded data removed]",
       "text": [
        "<matplotlib.figure.Figure at 0x106949390>"
       ]
      }
     ],
     "prompt_number": 6
    },
    {
     "cell_type": "code",
     "collapsed": false,
     "input": [
      "%matplotlib inline\n",
      "import matplotlib.pyplot as plt\n",
      "\n",
      "plt.plot(k,gk)\n",
      "plt.title('Policy function with $\\delta = 0.1$ (grid = 50)', fontsize=18)\n",
      "plt.ylabel('$g(k)$', fontsize=18)\n",
      "plt.xlabel('$k$', fontsize=18)\n",
      "plt.savefig(\"g_d01_g50.pdf\")\n",
      "plt.savefig(\"/Users/PedroJMA/Dropbox/ah UWO 2014/1st-year/macro/hw7/g_d01_g50.png\")\n",
      "plt.show()"
     ],
     "language": "python",
     "metadata": {},
     "outputs": [
      {
       "metadata": {},
       "output_type": "display_data",
       "png": "[encoded data removed]",
       "text": [
        "<matplotlib.figure.Figure at 0x106959190>"
       ]
      }
     ],
     "prompt_number": 7
    },
    {
     "cell_type": "code",
     "collapsed": false,
     "input": [
      "from IPython.display import Image\n",
      "from IPython.display import display \n",
      "graph_1b_v = Image( url='http://goo.gl/wxEv09') \n",
      "graph_1b_g = Image(url='http://goo.gl/3ivNt6')\n",
      "\n",
      "graph_2a_v = Image(url='http://goo.gl/LmFMLE') \n",
      "graph_2a_g = Image(url='http://goo.gl/AsZG2I')\n",
      "\n",
      "graph_2b_v = Image(url='http://goo.gl/gouOOV') \n",
      "graph_2b_g = Image(url='http://goo.gl/y9fcGq')"
     ],
     "language": "python",
     "metadata": {},
     "outputs": [],
     "prompt_number": 8
    },
    {
     "cell_type": "markdown",
     "metadata": {},
     "source": [
      "If we increase the number of grid points we get:"
     ]
    },
    {
     "cell_type": "code",
     "collapsed": false,
     "input": [
      "display(graph_1b_v)"
     ],
     "language": "python",
     "metadata": {},
     "outputs": [
      {
       "html": [
        "<img src=\"http://goo.gl/wxEv09\"/>"
       ],
       "metadata": {},
       "output_type": "display_data",
       "text": [
        "<IPython.core.display.Image at 0x106be91d0>"
       ]
      }
     ],
     "prompt_number": 9
    },
    {
     "cell_type": "code",
     "collapsed": false,
     "input": [
      "display(graph_1b_g)"
     ],
     "language": "python",
     "metadata": {},
     "outputs": [
      {
       "html": [
        "<img src=\"http://goo.gl/3ivNt6\"/>"
       ],
       "metadata": {},
       "output_type": "display_data",
       "text": [
        "<IPython.core.display.Image at 0x106be9e90>"
       ]
      }
     ],
     "prompt_number": 10
    },
    {
     "cell_type": "markdown",
     "metadata": {},
     "source": [
      "Let $\\delta = 0.1$"
     ]
    },
    {
     "cell_type": "code",
     "collapsed": false,
     "input": [
      "display(graph_2a_v)"
     ],
     "language": "python",
     "metadata": {},
     "outputs": [
      {
       "html": [
        "<img src=\"http://goo.gl/LmFMLE\"/>"
       ],
       "metadata": {},
       "output_type": "display_data",
       "text": [
        "<IPython.core.display.Image at 0x106be9750>"
       ]
      }
     ],
     "prompt_number": 11
    },
    {
     "cell_type": "code",
     "collapsed": false,
     "input": [
      "display(graph_2a_g)"
     ],
     "language": "python",
     "metadata": {},
     "outputs": [
      {
       "html": [
        "<img src=\"http://goo.gl/AsZG2I\"/>"
       ],
       "metadata": {},
       "output_type": "display_data",
       "text": [
        "<IPython.core.display.Image at 0x106be9fd0>"
       ]
      }
     ],
     "prompt_number": 12
    },
    {
     "cell_type": "code",
     "collapsed": false,
     "input": [
      "display(graph_2b_v)"
     ],
     "language": "python",
     "metadata": {},
     "outputs": [
      {
       "html": [
        "<img src=\"http://goo.gl/gouOOV\"/>"
       ],
       "metadata": {},
       "output_type": "display_data",
       "text": [
        "<IPython.core.display.Image at 0x106be99d0>"
       ]
      }
     ],
     "prompt_number": 13
    },
    {
     "cell_type": "code",
     "collapsed": false,
     "input": [
      "display(graph_2b_g)"
     ],
     "language": "python",
     "metadata": {},
     "outputs": [
      {
       "html": [
        "<img src=\"http://goo.gl/y9fcGq\"/>"
       ],
       "metadata": {},
       "output_type": "display_data",
       "text": [
        "<IPython.core.display.Image at 0x106be9f50>"
       ]
      }
     ],
     "prompt_number": 14
    }
   ],
   "metadata": {}
  }
 ]
}