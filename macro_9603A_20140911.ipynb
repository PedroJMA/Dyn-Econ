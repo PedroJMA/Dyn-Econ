{
 "metadata": {
  "name": "",
  "signature": "sha256:235e42be0092a8c12a19eb56ea61971f1376c520c918815db5ef2bd9739f1636"
 },
 "nbformat": 3,
 "nbformat_minor": 0,
 "worksheets": [
  {
   "cells": [
    {
     "cell_type": "heading",
     "level": 1,
     "metadata": {},
     "source": [
      "Macroeconomics I - 9603A, Fall 2014"
     ]
    },
    {
     "cell_type": "markdown",
     "metadata": {},
     "source": [
      "* Instructor: Ananth Ramanarayanan\n",
      "* Office: 4054 SSC\n",
      "* email: aramanar@uwo.ca\n",
      "* Course webpage: sites.google.com/site/econ9603 \n",
      "* Office hours: Tues and Thurs, 11:30am\u201012:30pm\n",
      "* two Midterms: **October 7** and **November 11**"
     ]
    },
    {
     "cell_type": "heading",
     "level": 3,
     "metadata": {},
     "source": [
      "Learning Outcomes"
     ]
    },
    {
     "cell_type": "markdown",
     "metadata": {},
     "source": [
      "By the end of this course, students will be able to:\n",
      "\n",
      "* Define Pareto efficient and competitive equilibrium allocations in a variety of dynamic economic environments.\n",
      "* Solve for Pareto efficient and competitive equilibrium outcomes in simple example economies.\n",
      "* Apply recursive methods to cast general dynamic economic models problems as dynamic programming problems.\n",
      "* Develop methods to compute the solutions to dynamic programming problems numerically.\n",
      "* Analyze the effects of taxes, government debt, and other policies on outcomes in the neoclassical growth model, through the mechanisms of capital accumulation, consumption smoothing, and the labor\u2010leisure tradeoff.\n",
      "* Extend the methods of dynamic programming to include elements of uncertainty and discrete choice, to analyze stochastic variations on the neoclassical growth model and labor market search models."
     ]
    },
    {
     "cell_type": "heading",
     "level": 1,
     "metadata": {},
     "source": [
      "I. Dynamic exchange economies with infinitely-lived agents\n"
     ]
    },
    {
     "cell_type": "markdown",
     "metadata": {},
     "source": [
      "References:\n",
      "\n",
      "* Krueger, Ch.2\n",
      "* Kehoe (1989) *Intertemporal Equilibrium models*\n",
      "* Negishi (1960) *Welfare economics and existence of an equilibrium for competitive economy*"
     ]
    },
    {
     "cell_type": "markdown",
     "metadata": {},
     "source": [
      "<div class=\"alert alert-error\">\n",
      "*Homework 1*: Due at the beginning of class on **Thursday, September 18**\n",
      "</div>\n",
      "\n",
      "Here the notebook for [Homework 1](hw/macro9603_hw1.ipynb)"
     ]
    },
    {
     "cell_type": "heading",
     "level": 2,
     "metadata": {},
     "source": [
      "Set up of the model"
     ]
    },
    {
     "cell_type": "markdown",
     "metadata": {},
     "source": [
      "* Infinte time horizon $t=0,1,2,\\ldots$\n",
      "* 2 consumers, $i=1,2$\n",
      "* one consumption good (non-storable) in each $t$\n",
      "* **Endowments**: $i$ has $e^i_t$ units of good in $t$\n",
      "* **Preferences**: \n",
      "$U(C_0, C_1, C_2, \\ldots) = \\sum_{t=0}^{\\infty} \\beta^t u(C_t)$, $\\beta \\in (0,1)$ "
     ]
    },
    {
     "cell_type": "markdown",
     "metadata": {},
     "source": [
      "<div class=\"alert alert-info\"> \n",
      "*Def.* An **allocation** is sequences of \n",
      "$\\{C^1_t, C^2_t\\}^\\infty_{t=0}$\n",
      "of consumption for each consumer. \n",
      "</div>"
     ]
    },
    {
     "cell_type": "markdown",
     "metadata": {},
     "source": [
      "<div class=\"alert alert-info\"> \n",
      "*Def.* An allocation $\\{C^1_t, C^2_t\\}$ is **feasible** if \n",
      "$C^1_t + C^2_t = e^1_t + e^1_t$ for all $t \\geq 0$ and \n",
      "$C^i_t \\geq 0$ for all $t \\geq 0$, $i=1,2$\n",
      "</div>"
     ]
    },
    {
     "cell_type": "heading",
     "level": 2,
     "metadata": {},
     "source": [
      "Market structure: Arrow-Debreu"
     ]
    },
    {
     "cell_type": "markdown",
     "metadata": {},
     "source": [
      "At date $0$, trade claims to consumption each period. \n",
      "$P_t$ is the price of claim to 1 unit of consumption in period $t$ (often normalized as $P_0=1$). "
     ]
    },
    {
     "cell_type": "markdown",
     "metadata": {},
     "source": [
      "<div class=\"alert alert-info\"> \n",
      "*Def.* A competitive **Arrow-Debreu equilibrium** (A-D equilibrium) is: \n",
      "</div>\n",
      "* a sequence of prices: $\\{\\hat{P}_t\\}^\\infty_{t=0}$\n",
      "* an allocation: \n",
      "$\\{ \\hat{C}^1_t, \\hat{C}^2_t\\}^\\infty_{t=0}$\n",
      "\n",
      "such that: \n",
      "\n",
      "1. For each $i=1,2$ given \n",
      "$\\{\\hat{P}_t\\}^\\infty_{t=0}$, \n",
      "$\\{\\hat{C}^i_t\\}^\\infty_{t=0}$ solves\n",
      "$$ \n",
      "\\begin{eqnarray}\n",
      "\\max \\sum^\\infty_{t=0} \\beta^t u(C_t) \n",
      " \\text{ subject to } & \\\\ \n",
      " \\bullet & \\sum_{t=0}^\\infty \\hat{P}_tC_t \\leq \\sum_{t=0}^\\infty \\hat{P}_t e^i_t \\\\\n",
      " \\bullet  & C_t \\geq 0, t=0, 1,2, \\ldots \\\\\n",
      "\\end{eqnarray}\n",
      "$$\n",
      "\n",
      "2. For every $t\\geq 0$, \n",
      "$$\\hat{C}^1_t + \\hat{C}^2_t = e^1_t + e^2_t$$"
     ]
    },
    {
     "cell_type": "heading",
     "level": 2,
     "metadata": {},
     "source": [
      "Characterization of Equilibrium"
     ]
    },
    {
     "cell_type": "markdown",
     "metadata": {},
     "source": [
      "Lagrangean function for $i$:\n",
      "$$ \n",
      "\\mathcal{L}^i = \n",
      "\\sum_{t=0}^{\\infty} \\beta^t u(C_t)\n",
      "+ \\lambda^i[\n",
      "\\sum_{t=0}^\\infty \\hat{P}_t e^i_t - \n",
      "\\sum_{t=0}^\\infty \\hat{P}_tC_t \n",
      "]\n",
      "+ \n",
      "\\sum_{t=0}^\\infty\\mu^i_t C_t\n",
      "$$"
     ]
    },
    {
     "cell_type": "heading",
     "level": 3,
     "metadata": {},
     "source": [
      "Kuhn-Tucker"
     ]
    },
    {
     "cell_type": "markdown",
     "metadata": {},
     "source": [
      "if $\\{\\hat{C}^i_t\\}^\\infty_{t=0}$ solves consumer $i$'s problem, then there exist $\\lambda^i \\geq 0$ and $\\{\\mu^i_t\\} \\geq 0$ such that\n",
      "\n",
      "* $\\beta^t u'(\\hat{C}^i_t) - \\lambda^i $\n",
      "* $\\lambda^i[\n",
      "\\sum_{t=0}^\\infty \\hat{P}_t e^i_t - \n",
      "\\sum_{t=0}^\\infty \\hat{P}_t\\hat{C}_t \n",
      "] = 0$\n",
      "* $\\mu^i_t \\hat{C}_t $ $\\forall t$"
     ]
    },
    {
     "cell_type": "heading",
     "level": 3,
     "metadata": {},
     "source": [
      "Simplifying assumptions:"
     ]
    },
    {
     "cell_type": "markdown",
     "metadata": {},
     "source": [
      "* $u$ is strictly increasing; which means that $\\sum \\hat{P}_t \\hat{C}_t = \\sum \\hat{P}_t e^i_t$\n",
      "* Inada conditions are satisfied: \n",
      "$\\lim_{C \\rightarrow 0} u'(C) = \\infty \\Rightarrow \\hat{C}^i_t >0$"
     ]
    },
    {
     "cell_type": "markdown",
     "metadata": {},
     "source": [
      "<div class=\"alert alert-info\"> \n",
      "Under simplifying assumptions ($u$ strictly increasing and Inada conditions holds); \n",
      "$\\{\\hat{P}_t\\}$, $\\{\\hat{C}^1_t, \\hat{C}^2_t\\} $ is an **equilibrium** if and only if there exist $\\lambda^1, \\lambda^2 >0$ such that: \n",
      "</div>\n",
      "* $\\beta^t u'(\\hat{C}^i_t) = \\lambda^i\\hat{P}_t$ , \n",
      "$i=1,2$ and $t\\geq 0$\n",
      "* $\\sum \\hat{P}_t\\hat{C}^i_t = \\sum \\hat{P}_t \\hat{e}^i_t$ , $i=1,2$\n",
      "* $\\hat{C}^1_t + \\hat{C}^2_t = e^1_t + e^2_t$, \n",
      "$t \\geq 0$ "
     ]
    },
    {
     "cell_type": "heading",
     "level": 3,
     "metadata": {},
     "source": [
      "Example: deterministic endowments"
     ]
    },
    {
     "cell_type": "markdown",
     "metadata": {},
     "source": [
      "* $u(C) = \\log(C)$; \n",
      "* $ e^1_t = \n",
      "\\begin{cases}\n",
      "2 & \\text{if } t \\text{ is even} \\\\\n",
      "0 & \\text{if } t \\text{ is odd}\n",
      "\\end{cases}\n",
      "$ \n",
      "$ e^2_t = \n",
      "\\begin{cases}\n",
      "0 & \\text{if } t \\text{ is even} \\\\\n",
      "2 & \\text{if } t \\text{ is odd}\n",
      "\\end{cases}\n",
      "$ \n",
      "* with $\\beta \\in (0,1)$\n",
      "\n",
      "*Solving for equilibrium*\n",
      "\n",
      "**Step 1**: Write the Lagrangean function and work consumer's F.O.C. \n",
      "$$ \n",
      "\\mathcal{L}^i = \n",
      "\\sum_{t=0}^{\\infty} \\beta^t \\log(C_t)\n",
      "+ \\lambda^i[\n",
      "\\sum_{t=0}^\\infty \\hat{P}_t e^i_t - \n",
      "\\sum_{t=0}^\\infty \\hat{P}_t C_t \n",
      "]\n",
      "$$\n",
      "\n",
      "From consumer $i$'s F.O.C. for t, t+1 we have: \n",
      "$$\n",
      "\\begin{eqnarray}\n",
      "C_t&:& \n",
      "\\beta^t\\frac{1}{\\hat{C}_t} = \\lambda^i \\hat{P}_t \\\\\n",
      "C_{t+1}&:& \n",
      "\\beta^{t+1}\\frac{1}{\\hat{C}_{t+1}} = \\lambda^i \\hat{P}_{t+1}\\\\\n",
      "\\end{eqnarray}\n",
      "$$\n",
      "\n",
      "working both conditions we get the **Euler equation** (EE): \n",
      "$$ \n",
      "\\beta \\frac{\\hat{C}_t}{\\hat{C}_{t+1}} = \\frac{\\hat{P}_{t+1}}{\\hat{P}_t}\n",
      "$$\n",
      "\n",
      "rewrite EE as: \n",
      "$$\n",
      "\\hat{C}_{t+1} = \\beta \\frac{\\hat{P}_t}{\\hat{P}_{t+1}}\\hat{C}_t\n",
      "$$\n",
      "\n",
      "**Step 2**: Add up across i\n",
      "$$\n",
      "\\beta \\frac{\\hat{P}_t}{\\hat{P}_{t+1}} (\\hat{C}^1_t + \\hat{C}^2_t)\n",
      "= \n",
      "(\\hat{C}^1_{t+1} + \\hat{C}^2_{t+1})\n",
      "$$\n",
      "\n",
      "recall that \n",
      "$\\hat{C}^1_t + \\hat{C}^2_t = e^1_t + e^2_t$ with $t \\geq 0$ , then\n",
      "$$\n",
      "\\beta \\frac{\\hat{P}_t}{\\hat{P}_{t+1}} (e^1_t + e^2_t)\n",
      "= \n",
      "(e^1_{t+1} + e^2_{t+1})\n",
      "$$\n",
      "\n",
      "At this point we look at the deterministic structure of endowments (for each agent). Note that at every period $e^1_t + e^2_t = 2$, so we have\n",
      "$$ \n",
      "\\beta =  \\frac{\\hat{P}_{t+1}}{\\hat{P}_t}\n",
      "$$\n",
      "or, normalizing $P_0 = 1$ we have that \n",
      "$\\hat{P}_t = \\beta^t$. \n",
      "\n",
      "**Step 3**: Use Euler equations and budget constraint\n",
      "$$\n",
      "\\beta \\frac{\\hat{P}_t}{\\hat{P}_{t+1}}\\hat{C}^i_t\n",
      "= \\hat{C}^i_{t+1} \n",
      "~\\text{and}~\n",
      "\\hat{P}_t = \\beta^t\n",
      "\\Rightarrow\n",
      "\\hat{C}^i_t = \\hat{C}^i_{t+1} = \\hat{C}^i\n",
      "$$\n",
      "plug into the budget constraint: \n",
      "$$ \n",
      "\\sum_{t=0}^\\infty \\hat{P}_t \\hat{C}^i_t = \n",
      "\\sum_{t=0}^\\infty \\hat{P}_t e^i_t\n",
      "\\quad \\Rightarrow \\quad \n",
      "\\hat{C}^i\\sum_{t=0}^\\infty \\beta^t  =\n",
      "\\sum_{t=0}^\\infty \\beta^t e^i_t\n",
      "$$\n",
      "note that $\\sum_{t=0}^\\infty \\beta^t = \\frac{1}{1-\\beta}$\n",
      "\n",
      "* for i=1\n",
      "$$\n",
      "\\hat{C}^1\\frac{1}{1-\\beta} = \n",
      "\\sum_{t ~even} \\beta^t 2 = \n",
      "2 \\sum_{t=0}^\\infty (\\beta^2)^t = 2\\frac{1}{1-\\beta^2}\n",
      "\\quad \\Rightarrow \\quad \n",
      "\\hat{C}^1\\frac{1}{1-\\beta} = 2\\frac{1}{1-\\beta^2}\n",
      "\\quad \\Rightarrow \\quad \n",
      "\\hat{C}^1 = \n",
      "2\\frac{1-\\beta}{1-\\beta^2} = 2\\frac{1-\\beta}{(1-\\beta)\\times(1+\\beta)}\n",
      "\\quad \\therefore \\quad\n",
      "\\hat{C}^1 = 2\\frac{1}{1+\\beta}\n",
      "$$\n",
      "* for i=2\n",
      "$$\n",
      "\\hat{C}^2\\frac{1}{1-\\beta} = \n",
      "\\sum_{t ~odd} \\beta^t 2 = \n",
      "2 \\sum_{t=0}^\\infty \\beta^{2t+1} = \n",
      "2\\beta \\sum_{t=0}^\\infty \\beta^{2t} =\n",
      "2\\beta \\sum_{t=0}^\\infty(\\beta^2)^t = 2\\beta\\frac{1}{1-\\beta^2}\n",
      "\\quad \\Rightarrow \\quad \n",
      "\\hat{C}^2\\frac{1}{1-\\beta} = 2\\beta\\frac{1}{1-\\beta^2}\n",
      "\\quad \\Rightarrow \\quad \n",
      "\\hat{C}^2 = 2\\beta\\frac{1-\\beta}{1-\\beta^2}\n",
      "\\quad \\therefore \\quad\n",
      "\\hat{C}^2 = 2\\frac{\\beta}{1+\\beta}\n",
      "$$\n",
      "\n",
      "Thus, the **Arrow-Debreu** equilibrium for this economy is given by \n",
      "\n",
      "* by a sequence of prices $P_t = \\beta^t$ with $P_0=1$ for all $t$; and \n",
      "* allocations \n",
      "$\\{ \\hat{C}^1_t, \\hat{C}^2_t \\}$ such that \n",
      "$\\hat{C}^1_t = 2\\frac{1}{1+\\beta}$ and \n",
      "$\\hat{C}^2_t = 2\\frac{\\beta}{1+\\beta}$ for all $t$. "
     ]
    },
    {
     "cell_type": "heading",
     "level": 3,
     "metadata": {},
     "source": [
      "Features of equilibrium in example:"
     ]
    },
    {
     "cell_type": "markdown",
     "metadata": {},
     "source": [
      "* $C^2_t < C^1_t$ always for $0 < \\beta < 1$ i.e. consumer 1 has higher total income due to earlier endowment. \n",
      "* $C^1_t = C^1$, $C^2_t = C^2$ is independent of $t$ (consumption smoothing). That is, consumption allocations does not fluctuate with individual income and does with aggregate endowments. \n",
      "* Intertemporal MRS = intertemporal price ratio\n",
      "* A lot of trade takes place: when t-even consumer 1 gives $e^1_t - C^1_t$ to consumer 2, and when t-odd consumer 2 gives $e^2_t-C^2_t$ to consumer 1. \n",
      "* trade is mutally beneficial. That means, Equilibrium allocations are better than \"autarky\" (no trade, i.e. $C^i_t = e^i_t$ all $t$ both i). "
     ]
    },
    {
     "cell_type": "markdown",
     "metadata": {},
     "source": [
      "<div class=\"alert alert-info\"> \n",
      "*Def.* \n",
      "An allocation \n",
      "$\\{ \\bar{C}^1_t, \\bar{C}^2_t \\}^\\infty_{t=0}$\n",
      "is **Pareto Efficient** (PE) if <br />\n",
      "1) it is feasible <br /> \n",
      "2) there is **no** other feasible allocation \n",
      "$\\{ \\tilde{C}^1_t, \\tilde{C}^2_t \\}$\n",
      "for which \n",
      "$$ \n",
      "\\sum_{t=0}^\\infty \\beta^t u(\\tilde{C}^i_t) \\geq \n",
      "\\sum_{t=0}^\\infty \\beta^t u(\\bar{C}^i_t)\n",
      "$$\n",
      "for both $i=1,2$, with **strict** inequality for at least one $i=1,2$. "
     ]
    },
    {
     "cell_type": "markdown",
     "metadata": {},
     "source": [
      "Note that **feasible** means that consumers completely exhaust their endowment, so that\n",
      "$C^1_t + C^2_t = e^1_t + e^2_t$ for all $t$. "
     ]
    },
    {
     "cell_type": "markdown",
     "metadata": {},
     "source": [
      "<div class=\"alert alert-success\">\n",
      "*Alternative characterization of Pareto Efficiency* via **Social Planner's Problem (SPP)**\n",
      "</div>\n",
      "$\\{\\bar{C}^1_t, \\bar{C}^2_t\\}$ \n",
      "is **Pareto efficient** if, and only if there are $\\alpha_1, \\alpha_2 \\geq 0$ (*not both zero*) such that \n",
      "$\\{\\bar{C}^1_t, \\bar{C}^2_t\\}$ \n",
      "solves the SPP: \n",
      "\n",
      "$$\n",
      "\\begin{eqnarray}\n",
      "\\max \n",
      "\\alpha_1 \\sum \\beta^t u(C^1_t) + \n",
      "\\alpha_2 \\sum \\beta^t u(C^2_t) & \\text{subject to } \\\\ \n",
      " \\bullet & C^1_t + C^2 = e^1_t + e^2_t \\\\ \n",
      " \\bullet & C^1_t, C^2_t \\geq 0 \\\\\n",
      "\\end{eqnarray}\n",
      "$$\n",
      "\n",
      "\n",
      "\n",
      "\n",
      "\n",
      "* Note that we can go from SPP $\\Rightarrow$ PE allocation is relatively easy.\n",
      "* And in the other way: a PE allocation that solves a SPP (need $u$ concave). See Mas-colell et al. Chapter 16.E. \n",
      "* Also note that combination of $(\\alpha_1, \\alpha_2)$ trace out PE allocations. "
     ]
    },
    {
     "cell_type": "markdown",
     "metadata": {},
     "source": [
      "<div class=\"alert alert-success\">\n",
      "*Characterization of Pareto Efficient allocations*  \n",
      "</div>\n",
      "$\\{\\bar{C}^1_t, \\bar{C}^2_t\\}^\\infty_{t=0}$\n",
      "solves Social Planner's Problem if \n",
      "$\\exists~\n",
      " \\alpha_1, \\alpha_2 \\geq 0$ and \n",
      " $\\{ \\Pi_t\\} \\geq 0$ such that: \n",
      "\n",
      "(1) $\\alpha_i \\beta^t u'(\\bar{C}^i_t) = \\Pi_t$ {interior} \n",
      "\n",
      "(2) $ \\bar{C}^1_t + \\bar{C}^2_t = e^1_t + e^2_t$ \n"
     ]
    },
    {
     "cell_type": "markdown",
     "metadata": {},
     "source": [
      "<div class=\"alert alert-error\">\n",
      "*Thm.* **First Welfare Theorem** (FWT)<br />\n",
      "If $u$ is strictly increasing, an Arrow-Debreu equilibrium allocation is pareto efficient.\n",
      "</div>\n",
      "\n",
      "<div class=\"alert alert-success\">\n",
      "*Proof.* Adaptation of general proof (by contradiction) </div>\n",
      "\n",
      "If $\\{ \\hat{C}^1_t, \\hat{C}^2_t\\}^\\infty_{t=0}$\n",
      "is a A-D equilibrium allocation, it is Pareto Efficient. \n",
      "\n",
      "**Step 1**. Suppose that $\\{ \\hat{C}^1_t, \\hat{C}^2_t\\}^\\infty_{t=0}$ is not Pareto Efficient; then $\\exists$ \n",
      "$\\{ \\tilde{C}^1_t, \\tilde{C}^2_t\\}^\\infty_{t=0}$ such that \n",
      "\n",
      "$$ \n",
      "\\sum^\\infty_{t=0} \\beta^t u(\\tilde{C}^1_t) > \\sum^\\infty_{t=0} \\beta^t u(\\hat{C}^1_t)\n",
      "$$ and \n",
      "\n",
      "$$ \n",
      "\\sum^\\infty_{t=0} \\beta^t u(\\tilde{C}^2_t) \\geq \\sum^\\infty_{t=0} \\beta^t u(\\hat{C}^2_t)\n",
      "$$ and \n",
      "\n",
      "$$\n",
      "\\tilde{C}^1_t + \\tilde{C}^2_t = e^1_t + e^2_t\n",
      "$$ with $\\tilde{C}^1_t, \\tilde{C}^2_t \\geq 0$. This means $\\{ \\tilde{C}^1_t, \\tilde{C}^2_t\\}^\\infty_{t=0}$ is Pareto Efficient. \n",
      "\n",
      "**Step 2**. But this also implies that \n",
      "(a) $\\sum P_t \\tilde{C}^1_t > \\sum P_t e^1_t$ \n",
      "(b) $\\sum P_t \\tilde{C}^2_t \\geq \\sum P_t e^2_t$ \n",
      "Because (a) $\\{ \\hat{C}^1_t \\}$ is unaffordable at equilibrium prices for consumer 1; and for (b) there is a short proof by contradiction. *Proof for (b)*: if not, then $\\sum P_t \\tilde{C}^2_t < \\sum P_t e^2_t$ and $\\exists~\\epsilon >0$ such that \n",
      "$\\sum P_t \\tilde{C}^2_t + \\epsilon \\leq \\sum P_t e^2_t$ and construct \n",
      "$\\tilde{\\tilde{C}}^2_t = \\tilde{C}^2_t~\\forall t\\geq 1$, with $\\tilde{\\tilde{C}}^2_0 = \\tilde{C}^2_0 + \\frac{\\epsilon}{P_0}$. Thus, with this new allocation we look at utility function: \n",
      "$$\n",
      "\\sum \\beta^t u(\\tilde{\\tilde{C}}^2_t) > \\sum \\beta^t u(\\tilde{C}^2_t) \\geq \\sum \\beta^t u(\\hat{C}^2_t) \n",
      "$$\n",
      "but this the fact that $\\{\\hat{C}^2_t\\}$ is a maximizer. \n",
      "\n",
      "**Step 3**. Equations (a) and (b) together implies that \n",
      "$$\n",
      "\\sum P_t (\\tilde{C}^1_t + \\tilde{C}^2_t ) > \\sum P_t (e^1_t + e^2_t)\n",
      "$$ \n",
      "with $\\sum P_t (e^1_t + e^2_t) < \\infty$ (i.e. it should be the case that income is finite in order to have a solution for the consumption problem). \n",
      "Observe that last inequality **contradicts** the fact that \n",
      "$\\tilde{C}^1_t + \\tilde{C}^2_t = e^1_t + e^2_t$ (from step 1). \n",
      "Hence, $\\{ \\hat{C}^1_t, \\hat{C}^2_t\\}$ is **Pareto Efficient**. $\\blacksquare$"
     ]
    },
    {
     "cell_type": "markdown",
     "metadata": {},
     "source": [
      "<div class=\"alert alert-success\">\n",
      "*Alternative proof for the FWT* \n",
      "</div>\n",
      "An A-D equilibrium allocation satisfies (F.O.C. equations from section Kuhn-Tucker) \n",
      "\n",
      "* $\\beta^t u'(\\hat{C}^i_t) = \\lambda^i\\hat{P}_t$, $i=1,2$ and $t\\geq 0$ \n",
      "* $\\hat{C}^1_t + \\hat{C}^2_t = e^1_t + e^2_t$, $t \\geq 0$ \n",
      "\n",
      "Let $\\Pi_t = \\hat{P}_t$, and $\\alpha_i = \\frac{1}{\\lambda_i}$, therefore $\\{ \\hat{C}^1_t, \\hat{C}^2_t \\}$ satisfy equations (1) and (2) from characterization of P.E. allocations. \n",
      "\n",
      "Note: keep in mind the interpretation of $\\Pi_t$  and $\\alpha_i$ or $\\hat{P}_t$ and $\\lambda_i$. "
     ]
    },
    {
     "cell_type": "markdown",
     "metadata": {},
     "source": [
      "<div class=\"alert alert-info\"> \n",
      "*Def.* An Arrow-Debreu equilibrium **with transfers** is a secuence of prices \n",
      "$\\{ \\hat{P}_t \\}$, allocation \n",
      "$\\{ \\hat{C}^1_t, \\hat{C}^2_t\\}$ and transfers $\\hat{T}^1, \\hat{T}^2$ such that: \n",
      "</div>\n",
      "\n",
      "1) given $\\{ \\hat{P}_t \\}$ and $T^i$, \n",
      "$\\{\\hat{C}^i_t\\}$ solves for each $i$: \n",
      "$$\n",
      "\\begin{eqnarray}\n",
      "\\max \\sum \\beta^t u(C_t) &\\text{subject to } \\\\\n",
      " \\bullet & \\sum \\hat{P}_t C_t \\leq \\sum \\hat{P}_t e^i_t + \\hat{T}^i \\\\\n",
      "  \\bullet & C_t \\geq 0 \\forall t \\\\\n",
      "\\end{eqnarray}\n",
      "$$\n",
      "\n",
      "2) $\\hat{C}^1_t + \\hat{C}^2_t = e^1_t + e^2_t$\n",
      "\n",
      "3) $\\hat{T}^1 + \\hat{T}^2 = 0$ \n",
      "\n",
      "Note that transfers are asigned under the Pareto Efficiency criteria. "
     ]
    },
    {
     "cell_type": "markdown",
     "metadata": {},
     "source": [
      "<div class=\"alert alert-error\">\n",
      "*Thm.* **Second Welfare Theorem** (SWT)\n",
      "</div>\n",
      "If $\\{\\hat{C}^1_t,\\hat{C}^2_t\\}$ is Pareto Efficient, then $\\exists$ $\\{\\hat{P}_t\\}$ and $\\hat{T}^1$, $\\hat{T}^2$ such that \n",
      "$\\{\\hat{C}^1_t,\\hat{C}^2_t\\}$, \n",
      "$\\{\\hat{P}_t\\}$ and \n",
      "$\\hat{T}^1$, $\\hat{T}^2$ \n",
      "is an Arrow-Debreu equilibrium **with transfers**. \n",
      "\n",
      "*Solution*. Start from a P.E. allocation given $\\alpha_1, \\alpha_2$ that satisfy the F.O.C. from characterization of P.E. (equations (1) and (2) ). And define $\\hat{P}_t = \\Pi_t$, $\\lambda^i = \\frac{1}{\\alpha_i}$ with \n",
      "$\\hat{T}^i = \\sum \\hat{P}_t (\\bar{C}^i_t - e^i_t)$ where $\\bar{C}^i_t - e^i_t$ comes from the P.E. allocation. "
     ]
    },
    {
     "cell_type": "markdown",
     "metadata": {},
     "source": [
      "<div class=\"alert alert-info\"> \n",
      "**Negishi's method**\n",
      "</div>\n",
      "\n",
      "1. Solve the Social planner's problem as a function of weights $\\alpha_1, \\alpha_2$\n",
      "2. Compute prices and transfers necessary to make P.E. allocation an Arrow-Debreu equilibrium with transfers. \n",
      "3. Find weights that make total transfers equals to zero. "
     ]
    },
    {
     "cell_type": "markdown",
     "metadata": {},
     "source": [
      "Macro(2014-09-11).pdf"
     ]
    }
   ],
   "metadata": {}
  }
 ]
}